{
 "cells": [
  {
   "cell_type": "code",
   "execution_count": 4,
   "metadata": {},
   "outputs": [
    {
     "name": "stdout",
     "output_type": "stream",
     "text": [
      "Hola mundo\n"
     ]
    }
   ],
   "source": [
    "print(\"Hola mundo\")"
   ]
  },
  {
   "cell_type": "markdown",
   "metadata": {},
   "source": [
    "#Clase 01\n"
   ]
  },
  {
   "cell_type": "code",
   "execution_count": 5,
   "metadata": {},
   "outputs": [],
   "source": [
    "mi_nombre=\"Erick Marcos\""
   ]
  },
  {
   "cell_type": "code",
   "execution_count": 6,
   "metadata": {},
   "outputs": [],
   "source": [
    "mi_edad = 19\n",
    "mi_correo = \"erick.marcos859@gmail.com\"\n",
    "mi_altura = 1.80\n"
   ]
  },
  {
   "cell_type": "code",
   "execution_count": 7,
   "metadata": {},
   "outputs": [
    {
     "name": "stdout",
     "output_type": "stream",
     "text": [
      "75\n",
      "25\n",
      "1250\n",
      "2.0\n"
     ]
    }
   ],
   "source": [
    "valor_1 = 50\n",
    "valor_2 = 25\n",
    "\n",
    "suma = valor_1 + valor_2\n",
    "print(suma)\n",
    "resta = valor_1 - valor_2\n",
    "print(resta)\n",
    "multiplicacion = valor_1 * valor_2\n",
    "print(multiplicacion)\n",
    "division = valor_1/valor_2\n",
    "print(division)\n"
   ]
  },
  {
   "cell_type": "markdown",
   "metadata": {},
   "source": [
    "##Format"
   ]
  },
  {
   "cell_type": "code",
   "execution_count": 8,
   "metadata": {},
   "outputs": [
    {
     "data": {
      "text/plain": [
       "'hola'"
      ]
     },
     "execution_count": 8,
     "metadata": {},
     "output_type": "execute_result"
    }
   ],
   "source": [
    "input(\"Dame un valor\")"
   ]
  },
  {
   "cell_type": "code",
   "execution_count": 14,
   "metadata": {},
   "outputs": [
    {
     "name": "stdout",
     "output_type": "stream",
     "text": [
      "La suma de 20 y 20 es 40\n"
     ]
    }
   ],
   "source": [
    "valor_1=int(input(\"dame un valor 1\"))\n",
    "valor_2=int(input(\"dame un valor 2\"))\n",
    "suma = valor_1 + valor_2\n",
    "print(f'La suma de {valor_1} y {valor_2} es {suma}')\n",
    "\n",
    "\n"
   ]
  },
  {
   "cell_type": "code",
   "execution_count": 17,
   "metadata": {},
   "outputs": [
    {
     "name": "stdout",
     "output_type": "stream",
     "text": [
      "False\n"
     ]
    }
   ],
   "source": [
    "num = 35>=42\n",
    "print(num)\n",
    "\n",
    "\n",
    "\n"
   ]
  },
  {
   "cell_type": "code",
   "execution_count": 19,
   "metadata": {},
   "outputs": [
    {
     "name": "stdout",
     "output_type": "stream",
     "text": [
      "Puedes subir\n"
     ]
    }
   ],
   "source": [
    "altura=float(input(\"Dame tu altura\"))\n",
    "if 1.60 > 1.20:\n",
    "    print(\"Puedes subir\")\n",
    "else:\n",
    "    print(\"No puedes subir\")"
   ]
  }
 ],
 "metadata": {
  "kernelspec": {
   "display_name": "Python 3.11.0 64-bit",
   "language": "python",
   "name": "python3"
  },
  "language_info": {
   "codemirror_mode": {
    "name": "ipython",
    "version": 3
   },
   "file_extension": ".py",
   "mimetype": "text/x-python",
   "name": "python",
   "nbconvert_exporter": "python",
   "pygments_lexer": "ipython3",
   "version": "3.11.0"
  },
  "orig_nbformat": 4,
  "vscode": {
   "interpreter": {
    "hash": "012f52854f7fa08f2b07191e9a5c8e9103d01df8457f9afa486e7fdf6adf43ab"
   }
  }
 },
 "nbformat": 4,
 "nbformat_minor": 2
}
