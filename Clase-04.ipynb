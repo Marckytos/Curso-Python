{
 "cells": [
  {
   "attachments": {},
   "cell_type": "markdown",
   "metadata": {},
   "source": [
    "# Clase 04"
   ]
  },
  {
   "cell_type": "code",
   "execution_count": 1,
   "metadata": {},
   "outputs": [
    {
     "data": {
      "text/plain": [
       "16"
      ]
     },
     "execution_count": 1,
     "metadata": {},
     "output_type": "execute_result"
    }
   ],
   "source": [
    "def sumar(a,b):\n",
    "    \"\"\"\n",
    "    Función para sumar 2 numeros\n",
    "    ##Parametros:\n",
    "    a,b: valores enteros\n",
    "    ##return:\n",
    "    regresa la suma de a con b\n",
    "\n",
    "    \"\"\"\n",
    "    resultado = a+b\n",
    "    return resultado\n",
    "\n",
    "sumar(6,10)\n"
   ]
  },
  {
   "cell_type": "code",
   "execution_count": 4,
   "metadata": {},
   "outputs": [
    {
     "data": {
      "text/plain": [
       "1146.0800000000002"
      ]
     },
     "execution_count": 4,
     "metadata": {},
     "output_type": "execute_result"
    }
   ],
   "source": [
    "def dolaresApesos(a):\n",
    "    resultado=a*19.76\n",
    "    return resultado\n",
    "\n",
    "\n",
    "dolaresApesos(25)\n",
    "\n",
    "\n",
    "dolaresApesos(58)"
   ]
  },
  {
   "cell_type": "code",
   "execution_count": 11,
   "metadata": {},
   "outputs": [
    {
     "data": {
      "text/plain": [
       "8.7"
      ]
     },
     "execution_count": 11,
     "metadata": {},
     "output_type": "execute_result"
    }
   ],
   "source": [
    "def promedio(una_lista):\n",
    "    resultado=sum(una_lista)/len(una_lista)\n",
    "    return resultado\n",
    "\n",
    "\n",
    "promedio([8,10,9,8,6,10,8,9,9,10])\n"
   ]
  }
 ],
 "metadata": {
  "kernelspec": {
   "display_name": "Python 3.11.0 64-bit",
   "language": "python",
   "name": "python3"
  },
  "language_info": {
   "codemirror_mode": {
    "name": "ipython",
    "version": 3
   },
   "file_extension": ".py",
   "mimetype": "text/x-python",
   "name": "python",
   "nbconvert_exporter": "python",
   "pygments_lexer": "ipython3",
   "version": "3.11.0"
  },
  "orig_nbformat": 4,
  "vscode": {
   "interpreter": {
    "hash": "012f52854f7fa08f2b07191e9a5c8e9103d01df8457f9afa486e7fdf6adf43ab"
   }
  }
 },
 "nbformat": 4,
 "nbformat_minor": 2
}
