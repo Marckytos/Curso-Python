{
 "cells": [
  {
   "cell_type": "code",
   "execution_count": 7,
   "metadata": {},
   "outputs": [
    {
     "name": "stdout",
     "output_type": "stream",
     "text": [
      "Hola mundo\n"
     ]
    }
   ],
   "source": [
    "print(\"Hola mundo\")"
   ]
  },
  {
   "cell_type": "markdown",
   "metadata": {},
   "source": [
    "# Clase 02"
   ]
  },
  {
   "cell_type": "code",
   "execution_count": 8,
   "metadata": {},
   "outputs": [
    {
     "name": "stdout",
     "output_type": "stream",
     "text": [
      "45 es el numero mayor\n"
     ]
    }
   ],
   "source": [
    "num1 = int(input(\"Introduce un numero: \"))\n",
    "num2 = int(input(\"Introduce un numero: \"))\n",
    "if num1>num2:\n",
    "     print(f'{num1} es el numero mayor')\n",
    "else:\n",
    "        if num2>num1:\n",
    "            print(f\"{num2} es el numero mayor\")\n",
    "        else:\n",
    "            print(\"Los numeros son iguales\")\n"
   ]
  },
  {
   "cell_type": "markdown",
   "metadata": {},
   "source": [
    "#Listas"
   ]
  },
  {
   "cell_type": "code",
   "execution_count": 9,
   "metadata": {},
   "outputs": [
    {
     "name": "stdout",
     "output_type": "stream",
     "text": [
      "['Manzana', 'naranja', 'pera']\n",
      "['Manzana', 'naranja', 'pera', 'Platano']\n",
      "Wakanda Forever\n"
     ]
    }
   ],
   "source": [
    "Mis_frutas=[\"Manzana\", \"naranja\", \"pera\"]\n",
    "print(Mis_frutas)\n",
    "Mis_frutas.append(\"Platano\")\n",
    "print(Mis_frutas)\n",
    "palabra = \"Wakanda Forever\"\n",
    "palabra[0:8]\n",
    "palabra[9:16]\n",
    "print(palabra)"
   ]
  },
  {
   "cell_type": "code",
   "execution_count": 10,
   "metadata": {},
   "outputs": [
    {
     "name": "stdout",
     "output_type": "stream",
     "text": [
      "[10, 12, 12, 12, 13, 14, 15, 16, 18, 20]\n",
      "[20, 18, 16, 15, 14, 13, 12, 12, 12, 10]\n",
      "14.2\n"
     ]
    }
   ],
   "source": [
    "mis_numeros=[12, 12, 12, 15, 14, 13, 16, 18, 10, 20 ]\n",
    "mis_numeros.sort()\n",
    "print(mis_numeros)\n",
    "mis_numeros.sort(reverse=True)\n",
    "print(mis_numeros)\n",
    "mis_numeros.count(12)\n",
    "sum(mis_numeros)\n",
    "promedio = sum(mis_numeros)/len(mis_numeros)\n",
    "print(promedio) \n"
   ]
  }
 ],
 "metadata": {
  "kernelspec": {
   "display_name": "Python 3.11.0 64-bit",
   "language": "python",
   "name": "python3"
  },
  "language_info": {
   "codemirror_mode": {
    "name": "ipython",
    "version": 3
   },
   "file_extension": ".py",
   "mimetype": "text/x-python",
   "name": "python",
   "nbconvert_exporter": "python",
   "pygments_lexer": "ipython3",
   "version": "3.11.0"
  },
  "orig_nbformat": 4,
  "vscode": {
   "interpreter": {
    "hash": "012f52854f7fa08f2b07191e9a5c8e9103d01df8457f9afa486e7fdf6adf43ab"
   }
  }
 },
 "nbformat": 4,
 "nbformat_minor": 2
}
