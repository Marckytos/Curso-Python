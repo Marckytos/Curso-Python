{
 "cells": [
  {
   "cell_type": "code",
   "execution_count": 1,
   "metadata": {},
   "outputs": [],
   "source": [
    "def numeros_multiplos(limit_inf, limit_sup):\n",
    "  if limit_sup > limit_inf:\n",
    "    resultado=[]\n",
    "    for n in range(limit_inf, limit_sup+1):\n",
    "       if n%4==0:\n",
    "        resultado.append(n)\n",
    "    return resultado\n",
    "    \n",
    "  numeros=numeros_multiplos(36, 599)\n",
    "  print(numeros)"
   ]
  }
 ],
 "metadata": {
  "kernelspec": {
   "display_name": "Python 3.11.0 64-bit",
   "language": "python",
   "name": "python3"
  },
  "language_info": {
   "codemirror_mode": {
    "name": "ipython",
    "version": 3
   },
   "file_extension": ".py",
   "mimetype": "text/x-python",
   "name": "python",
   "nbconvert_exporter": "python",
   "pygments_lexer": "ipython3",
   "version": "3.11.0"
  },
  "orig_nbformat": 4,
  "vscode": {
   "interpreter": {
    "hash": "012f52854f7fa08f2b07191e9a5c8e9103d01df8457f9afa486e7fdf6adf43ab"
   }
  }
 },
 "nbformat": 4,
 "nbformat_minor": 2
}
